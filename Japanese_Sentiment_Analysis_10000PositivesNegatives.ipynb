{
 "cells": [
  {
   "cell_type": "code",
   "execution_count": 0,
   "metadata": {
    "colab": {},
    "colab_type": "code",
    "id": "iSr4lp0wu-nN"
   },
   "outputs": [],
   "source": [
    "!pip install nagisa\n",
    "!pip install pykakasi"
   ]
  },
  {
   "cell_type": "code",
   "execution_count": 0,
   "metadata": {
    "colab": {},
    "colab_type": "code",
    "id": "FuL8AeGkeqcX"
   },
   "outputs": [],
   "source": [
    "pip install fasttext"
   ]
  },
  {
   "cell_type": "markdown",
   "metadata": {},
   "source": [
    "# Import all Required Libraries"
   ]
  },
  {
   "cell_type": "code",
   "execution_count": 34,
   "metadata": {
    "colab": {},
    "colab_type": "code",
    "id": "U4SzVpQk5DTi"
   },
   "outputs": [],
   "source": [
    "import nagisa\n",
    "import pykakasi\n",
    "import pandas as pd\n",
    "import numpy as np\n",
    "import re\n",
    "from tqdm import tqdm\n",
    "import io\n",
    "import fasttext.util\n",
    "from keras.preprocessing.text import Tokenizer\n",
    "from keras.preprocessing.sequence import pad_sequences\n",
    "from keras.models import Model\n",
    "from keras.layers import Dropout,Embedding,Input,LSTM,GRU,Bidirectional,GlobalAveragePooling1D,GlobalMaxPooling1D,concatenate,Dense\n",
    "from keras.optimizers import Adam\n",
    "from sklearn.model_selection import train_test_split\n",
    "from keras.utils import to_categorical\n",
    "from keras.callbacks import EarlyStopping,ModelCheckpoint\n",
    "import pickle\n",
    "from matplotlib import pyplot as plt\n",
    "from sklearn.metrics import accuracy_score,confusion_matrix,classification_report"
   ]
  },
  {
   "cell_type": "markdown",
   "metadata": {},
   "source": [
    "# Function to Clean the Japanese Corpus"
   ]
  },
  {
   "cell_type": "code",
   "execution_count": 2,
   "metadata": {
    "colab": {},
    "colab_type": "code",
    "id": "aZnyraOEGZCU"
   },
   "outputs": [],
   "source": [
    "def clean_data(text):\n",
    "    clean_text = text.lower() # converts any english word in lower case\n",
    "    clean_text = re.sub(r\"\\W\",\" \",clean_text) # removing any non-words characters which include special characters, comma, punctuation\n",
    "    clean_text = re.sub(r\"\\d\",\" \",clean_text) # removing any digits\n",
    "    clean_text = re.sub(r\"\\s+\",' ',clean_text) # removing any extra spaces in middle \n",
    "    clean_text = re.sub(r\"^\\s\",' ',clean_text) # removing any extra spaces in beginning\n",
    "    clean_text = re.sub(r\"\\s$\",' ',clean_text) # removing any extra spaces in end\n",
    "    return clean_text"
   ]
  },
  {
   "cell_type": "markdown",
   "metadata": {},
   "source": [
    "# Function to create the Vocabulary Histogram\n",
    "### This Function is latter used to filter the vocabulary"
   ]
  },
  {
   "cell_type": "code",
   "execution_count": 3,
   "metadata": {
    "colab": {},
    "colab_type": "code",
    "id": "b3QPLbyZGk2U"
   },
   "outputs": [],
   "source": [
    "def get_vocabulary_histogram(clean_corpus_jp):\n",
    "    vocabulary_count_dict = {}\n",
    "    stop_words = jp_stopwords = [\"あそこ\",\"あっ\",\"あの\",\"あのかた\",\"あの人\",\"あり\",\"あります\",\"ある\",\n",
    "                                 \"あれ\",\"い\",\"いう\",\"います\",\"いる\",\"う\",\"うち\",\"え\",\"お\",\"および\",\n",
    "                                 \"おり\",\"おります\",\"か\",\"かつて\",\"から\",\"が\",\"き\",\"ここ\",\"こちら\",\n",
    "                                 \"こと\",\"この\",\"これ\",\"これら\",\"さ\",\"さらに\",\"し\",\"しかし\",\"する\",\"ず\",\n",
    "                                 \"せ\",\"せる\",\"そこ\",\"そして\",\"その\",\"その他\",\"その後\",\"それ\",\"それぞれ\",\n",
    "                                 \"それで\",\"た\",\"ただし\",\"たち\",\"ため\",\"たり\",\"だ\",\"だっ\",\"だれ\",\"つ\",\"て\",\n",
    "                                 \"で\",\"でき\",\"できる\",\"です\",\"では\",\"でも\",\"と\",\"という\",\"といった\",\"とき\",\n",
    "                                 \"ところ\",\"として\",\"とともに\",\"とも\",\"と共に\",\"どこ\",\"どの\",\"な\",\"ない\",\n",
    "                                 \"なお\",\"なかっ\",\"ながら\",\"なく\",\"なっ\",\"など\",\"なに\",\"なら\",\"なり\",\n",
    "                                 \"なる\",\"なん\",\"に\",\"において\",\"における\",\"について\",\"にて\",\"によって\",\n",
    "                                 \"により\",\"による\",\"に対して\",\"に対する\",\"に関する\",\"の\",\"ので\",\"のみ\",\n",
    "                                 \"は\",\"ば\",\"へ\",\"ほか\",\"ほとんど\",\"ほど\",\"ます\",\"また\",\"または\",\"まで\",\n",
    "                                 \"も\",\"もの\",\"ものの\",\"や\",\"よう\",\"より\",\"ら\",\"られ\",\"られる\",\"れ\",\"れる\",\n",
    "                                 \"を\",\"ん\",\"何\",\"及び\",\"彼\",\"彼女\",\"我々\",\"特に\",\"私\",\"私達\",\"貴方\",\"貴方方\"]\n",
    "    for x in tqdm(clean_corpus_jp):\n",
    "        for token in nagisa.extract(x,extract_postags=['接頭辞','形容詞','名詞','動詞','助動詞','副詞','代名詞']).words:\n",
    "            if token not in stop_words:\n",
    "                if token not in vocabulary_count_dict.keys():\n",
    "                    vocabulary_count_dict[token] = 1\n",
    "                else:\n",
    "                    vocabulary_count_dict[token] += 1\n",
    "    return vocabulary_count_dict"
   ]
  },
  {
   "cell_type": "markdown",
   "metadata": {},
   "source": [
    "# Loading the Japanese Corpus"
   ]
  },
  {
   "cell_type": "code",
   "execution_count": 5,
   "metadata": {
    "colab": {},
    "colab_type": "code",
    "id": "nhiHJzsaSaA3"
   },
   "outputs": [],
   "source": [
    "f_negative = io.open(\"10000negative.txt\", mode=\"r\", encoding=\"utf-8\")\n",
    "f_positive = io.open(\"10000positive.txt\", mode=\"r\", encoding=\"utf-8\")"
   ]
  },
  {
   "cell_type": "code",
   "execution_count": 6,
   "metadata": {
    "colab": {},
    "colab_type": "code",
    "id": "wZb_qW_6YbSk"
   },
   "outputs": [],
   "source": [
    "negative_reviews = f_negative.readlines()\n",
    "positive_reviews = f_positive.readlines()"
   ]
  },
  {
   "cell_type": "code",
   "execution_count": 7,
   "metadata": {
    "colab": {},
    "colab_type": "code",
    "id": "1T2DA-6oZjdV"
   },
   "outputs": [],
   "source": [
    "positive_clean = []\n",
    "negative_clean = []\n",
    "\n",
    "for pos_text,neg_text in list(zip(positive_reviews,negative_reviews)):\n",
    "  positive_clean.append(clean_data(pos_text))\n",
    "  negative_clean.append(clean_data(neg_text))"
   ]
  },
  {
   "cell_type": "code",
   "execution_count": 8,
   "metadata": {
    "colab": {},
    "colab_type": "code",
    "id": "ejmVexwTabu5"
   },
   "outputs": [],
   "source": [
    "corpus = positive_clean + negative_clean"
   ]
  },
  {
   "cell_type": "markdown",
   "metadata": {},
   "source": [
    "# Create the Japanese Vocabulary Histogram"
   ]
  },
  {
   "cell_type": "code",
   "execution_count": 9,
   "metadata": {
    "colab": {
     "base_uri": "https://localhost:8080/",
     "height": 34
    },
    "colab_type": "code",
    "id": "XgnQVRrjauLI",
    "outputId": "23f55cc6-0eff-4a6a-ebba-eb83f8ea7c79"
   },
   "outputs": [
    {
     "name": "stderr",
     "output_type": "stream",
     "text": [
      "100%|██████████| 20000/20000 [48:24<00:00,  6.89it/s]  \n"
     ]
    }
   ],
   "source": [
    "vocabulary_count_dict = get_vocabulary_histogram(corpus)"
   ]
  },
  {
   "cell_type": "code",
   "execution_count": 10,
   "metadata": {
    "colab": {},
    "colab_type": "code",
    "id": "hsPnAkurOzcX"
   },
   "outputs": [],
   "source": [
    "vocab_count_dict_file = open(r\"E:\\Japanese Sentiment Analysis\\Japanese Sentiment Analysis-1\\vocab_count_dict.pkl\", \"wb\")\n",
    "pickle.dump(vocabulary_count_dict, vocab_count_dict_file)\n",
    "vocab_count_dict_file.close()"
   ]
  },
  {
   "cell_type": "code",
   "execution_count": 11,
   "metadata": {
    "colab": {},
    "colab_type": "code",
    "id": "lz11mPmAQHxF"
   },
   "outputs": [],
   "source": [
    "vocab_count_dict_file = open(r\"E:\\Japanese Sentiment Analysis\\Japanese Sentiment Analysis-1\\vocab_count_dict.pkl\", \"rb\")\n",
    "vocabulary_count_dict = pickle.load(vocab_count_dict_file)"
   ]
  },
  {
   "cell_type": "code",
   "execution_count": 68,
   "metadata": {},
   "outputs": [
    {
     "data": {
      "text/plain": [
       "{'アップル': 88,\n",
       " '信者': 4,\n",
       " 'ずっと': 132,\n",
       " 'tv': 733,\n",
       " '使用': 3825,\n",
       " 'ました': 5977,\n",
       " 'next': 10,\n",
       " 'アマゾン': 507,\n",
       " 'ビデオ': 612,\n",
       " '未': 59,\n",
       " '対応': 947,\n",
       " '商品': 3698,\n",
       " '購入': 6859,\n",
       " '比較': 260,\n",
       " 'fire': 284,\n",
       " '優れ': 78,\n",
       " 'ポイント': 125,\n",
       " 'ミュージック': 51,\n",
       " '月額': 6,\n",
       " '円': 1064,\n",
       " 'ホーム': 155,\n",
       " 'シェアリング': 1,\n",
       " '要': 78,\n",
       " 'pc': 1145,\n",
       " '起動': 265,\n",
       " 'iphone': 467,\n",
       " 'ワン': 39,\n",
       " 'タッチ': 316,\n",
       " 'ミラーリング': 99,\n",
       " '価格': 1531,\n",
       " '約': 196,\n",
       " '三': 94,\n",
       " '一': 1703,\n",
       " '快適': 246,\n",
       " '操作': 720,\n",
       " '視聴': 265,\n",
       " 'プライム': 913,\n",
       " '得': 357,\n",
       " '感': 1187,\n",
       " 'アプリ': 430,\n",
       " '量': 224,\n",
       " '結論': 60,\n",
       " '会員': 528,\n",
       " '場合': 565,\n",
       " '絶対': 185,\n",
       " '方': 2680,\n",
       " '機能': 693,\n",
       " 'サービス': 197,\n",
       " '満喫': 6,\n",
       " 'スマホ': 825,\n",
       " '専用': 160,\n",
       " '入れる': 280,\n",
       " '音声': 404,\n",
       " '認識': 1066,\n",
       " 'リモコン': 594,\n",
       " '有り': 173,\n",
       " '無し': 192,\n",
       " '本体': 1162,\n",
       " '性能': 212,\n",
       " '変わり': 92,\n",
       " 'なし': 641,\n",
       " '問題': 2658,\n",
       " '電話': 299,\n",
       " '光': 145,\n",
       " '換え': 158,\n",
       " '為': 428,\n",
       " 'モデム': 14,\n",
       " '無線': 121,\n",
       " 'lan': 156,\n",
       " 'とても': 1743,\n",
       " '便利': 676,\n",
       " 'インターネット': 68,\n",
       " '何処': 33,\n",
       " '使え': 1616,\n",
       " 'くれ': 556,\n",
       " '音楽': 255,\n",
       " 'パソコン': 638,\n",
       " 'アルバム': 38,\n",
       " '自動': 171,\n",
       " '入っ': 1508,\n",
       " '呉れ': 2,\n",
       " 'びっくり': 107,\n",
       " '知り': 106,\n",
       " 'ませ': 5967,\n",
       " 'でし': 4465,\n",
       " '歳': 27,\n",
       " '接続': 1051,\n",
       " '出来る': 240,\n",
       " '思っ': 1497,\n",
       " '本当': 469,\n",
       " 'amazon': 830,\n",
       " 'パッケージ': 311,\n",
       " '素材': 585,\n",
       " '無駄': 227,\n",
       " 'コスト': 402,\n",
       " 'パフォーマンス': 227,\n",
       " '高い': 871,\n",
       " '注意': 409,\n",
       " '点': 566,\n",
       " '驚い': 19,\n",
       " 'stick': 226,\n",
       " 'さして': 24,\n",
       " 'ログ': 39,\n",
       " 'イン': 231,\n",
       " '一切': 115,\n",
       " 'アカウント': 115,\n",
       " '〇': 3,\n",
       " '表示': 581,\n",
       " '出荷': 41,\n",
       " '前': 653,\n",
       " '個別': 19,\n",
       " '設定': 667,\n",
       " 'でしょう': 1267,\n",
       " '買っ': 1584,\n",
       " 'わけ': 282,\n",
       " 'いい': 2410,\n",
       " 'いきなり': 46,\n",
       " '困惑': 27,\n",
       " '知ら': 79,\n",
       " '開封': 139,\n",
       " 'まま': 557,\n",
       " 'あげ': 72,\n",
       " '盗難': 4,\n",
       " '合う': 40,\n",
       " '危険': 20,\n",
       " 'ちゃんと': 314,\n",
       " '持っ': 456,\n",
       " '思い': 4154,\n",
       " '環境': 262,\n",
       " '途切れる': 24,\n",
       " '動画': 491,\n",
       " '再生': 541,\n",
       " '映画': 547,\n",
       " '画像': 301,\n",
       " '満足': 1692,\n",
       " '損': 193,\n",
       " '後': 1084,\n",
       " '楽しみ': 121,\n",
       " '増え': 129,\n",
       " 'まし': 3588,\n",
       " '笑': 207,\n",
       " '少々': 125,\n",
       " '曲折': 1,\n",
       " '我が家': 104,\n",
       " 'ようやく': 70,\n",
       " '届き': 318,\n",
       " '今': 1241,\n",
       " '間違い': 122,\n",
       " '素晴らしい': 157,\n",
       " '評価': 471,\n",
       " '配偶': 1,\n",
       " '者': 258,\n",
       " '年間': 47,\n",
       " '歓迎': 2,\n",
       " 'インチ': 257,\n",
       " '受像': 8,\n",
       " '機': 261,\n",
       " 'デジ': 4,\n",
       " '像': 3,\n",
       " '他': 1846,\n",
       " 'メディア': 203,\n",
       " 'プレーヤ': 3,\n",
       " '家電': 133,\n",
       " '日常': 15,\n",
       " '使っ': 2673,\n",
       " '本': 485,\n",
       " '完成': 20,\n",
       " '度': 1544,\n",
       " '印象': 130,\n",
       " '今後': 338,\n",
       " '拡張': 7,\n",
       " '品質': 725,\n",
       " '向上': 52,\n",
       " '期待': 650,\n",
       " '気': 2351,\n",
       " '付い': 313,\n",
       " 'いく': 223,\n",
       " 'usb': 627,\n",
       " '電源': 706,\n",
       " 'テレビジョン': 1,\n",
       " '容量': 585,\n",
       " '不足': 94,\n",
       " 'さ\\u3000れ': 490,\n",
       " '付属': 346,\n",
       " 'アダプタ': 153,\n",
       " '必要': 763,\n",
       " 'chromecast': 74,\n",
       " '動作': 388,\n",
       " '端子': 416,\n",
       " '横': 158,\n",
       " '出': 889,\n",
       " 'hdmi': 197,\n",
       " 'コネクタ': 226,\n",
       " '素子': 9,\n",
       " '並べ': 7,\n",
       " '挿': 14,\n",
       " '尻': 1,\n",
       " 'つい': 840,\n",
       " '延長': 118,\n",
       " 'ケーブル': 1217,\n",
       " '実害': 4,\n",
       " '画質': 277,\n",
       " '番組': 195,\n",
       " '冒頭': 1,\n",
       " 'レジューム': 6,\n",
       " '時': 1531,\n",
       " '必ず': 128,\n",
       " '相当': 54,\n",
       " 'sd': 446,\n",
       " 'ブロック': 15,\n",
       " '歪': 1,\n",
       " '目立つ': 60,\n",
       " 'fps': 35,\n",
       " '程度': 562,\n",
       " '行き来': 2,\n",
       " '始まり': 15,\n",
       " '分': 758,\n",
       " 'hd': 161,\n",
       " '移行': 38,\n",
       " '安定': 317,\n",
       " 'サーバ': 4,\n",
       " 'ネットワーク': 43,\n",
       " '状況': 104,\n",
       " '間': 364,\n",
       " 'ビット': 16,\n",
       " 'レート': 13,\n",
       " '実測': 6,\n",
       " '最大': 55,\n",
       " 'mbps': 40,\n",
       " 'tcp': 1,\n",
       " 'オーバ': 1,\n",
       " 'ヘッド': 242,\n",
       " '含む': 7,\n",
       " '設置': 57,\n",
       " '時間': 554,\n",
       " '初めて': 476,\n",
       " '中': 1290,\n",
       " '急': 42,\n",
       " 'モゴモゴ': 1,\n",
       " 'sony': 154,\n",
       " 'av': 30,\n",
       " 'アンプ': 41,\n",
       " '巻き戻し': 9,\n",
       " '箇所': 120,\n",
       " '現象': 38,\n",
       " '再現': 38,\n",
       " '追記': 204,\n",
       " '特定': 18,\n",
       " '複数': 56,\n",
       " 'よっ': 231,\n",
       " 'かなり': 664,\n",
       " '長': 137,\n",
       " '症状': 125,\n",
       " 'サラウンド': 12,\n",
       " 'センター': 96,\n",
       " 'チャネル': 6,\n",
       " '音': 460,\n",
       " 'バック': 174,\n",
       " 'グラウンド': 3,\n",
       " '効果': 205,\n",
       " '自然': 31,\n",
       " '内蔵': 61,\n",
       " 'スピーカ': 11,\n",
       " 'ch': 7,\n",
       " 'ステレオ': 47,\n",
       " '発生': 212,\n",
       " 'せ\\u3000ず': 239,\n",
       " '外部': 55,\n",
       " '停止': 62,\n",
       " '再開': 8,\n",
       " '改善': 203,\n",
       " 'ソース': 2,\n",
       " 'すべて': 116,\n",
       " '正常': 147,\n",
       " 'テスト': 64,\n",
       " '確認': 527,\n",
       " 'どう': 878,\n",
       " '相性': 311,\n",
       " '入れ': 923,\n",
       " '早送り': 18,\n",
       " '押し': 315,\n",
       " '戻す': 10,\n",
       " 'vlc': 1,\n",
       " '落ち': 158,\n",
       " 'しまい': 1629,\n",
       " '数': 575,\n",
       " '起こる': 17,\n",
       " '最近': 235,\n",
       " '見': 2105,\n",
       " '希望': 91,\n",
       " 'バグ': 12,\n",
       " '早期': 3,\n",
       " '修正': 11,\n",
       " '望み': 26,\n",
       " '方法': 163,\n",
       " '役立た': 6,\n",
       " 'ず\\u3000な': 1,\n",
       " '削除': 72,\n",
       " '予定': 156,\n",
       " '秒': 151,\n",
       " '戻し': 39,\n",
       " 'タップ': 64,\n",
       " '予想': 118,\n",
       " '通り': 561,\n",
       " '戻り': 48,\n",
       " '普段': 138,\n",
       " '使わ': 233,\n",
       " 'テンキー': 6,\n",
       " '無い': 571,\n",
       " '好感': 23,\n",
       " '持ち': 383,\n",
       " 'i\\u3000な': 2,\n",
       " 'らかん': 1,\n",
       " 'じゃ\\u3000ら': 1,\n",
       " '比べる': 97,\n",
       " 'キー': 51,\n",
       " '多い': 365,\n",
       " 'ブルート': 5,\n",
       " 'ゥース': 6,\n",
       " '手間取り': 16,\n",
       " 'googletv': 1,\n",
       " '使い': 2234,\n",
       " 'あちら': 5,\n",
       " 'パッド': 200,\n",
       " '使い物': 246,\n",
       " '少なく': 154,\n",
       " '版': 134,\n",
       " '仮想': 9,\n",
       " 'フリップ': 10,\n",
       " '検索': 266,\n",
       " '文字': 127,\n",
       " '入力': 223,\n",
       " '標準': 67,\n",
       " 'キーボード': 156,\n",
       " '従っ': 20,\n",
       " '漢字': 1,\n",
       " '変換': 122,\n",
       " '良い': 2593,\n",
       " '上下': 179,\n",
       " '左右': 144,\n",
       " '矢印': 2,\n",
       " '移動': 102,\n",
       " '代わり': 27,\n",
       " 'スワイプ': 32,\n",
       " '最悪': 384,\n",
       " '言う': 402,\n",
       " '使いもの': 12,\n",
       " 'google': 27,\n",
       " '物理': 18,\n",
       " 'wd': 3,\n",
       " 'tvlive': 1,\n",
       " 'バージョン': 29,\n",
       " '採用': 9,\n",
       " '全く': 902,\n",
       " '悪評': 2,\n",
       " 'カ月': 65,\n",
       " '元': 214,\n",
       " 'タップー': 1,\n",
       " '歴史': 7,\n",
       " '学ん': 3,\n",
       " 'cifs': 1,\n",
       " 'ベース': 17,\n",
       " 'ファイル': 232,\n",
       " '煩わしい': 6,\n",
       " 'アイコン': 16,\n",
       " '名': 74,\n",
       " '以上': 679,\n",
       " '画面': 1782,\n",
       " '常時': 45,\n",
       " '近い': 82,\n",
       " '放送': 48,\n",
       " '波': 15,\n",
       " '録画': 190,\n",
       " '上': 832,\n",
       " 'たい': 1156,\n",
       " 'メニュー': 47,\n",
       " 'カスタマイズ': 2,\n",
       " '内容': 156,\n",
       " '変化': 41,\n",
       " '自分': 609,\n",
       " 'チャンネル': 36,\n",
       " '優先': 33,\n",
       " 'よい': 342,\n",
       " 'しれ': 591,\n",
       " 'スリープ': 500,\n",
       " 'モード': 63,\n",
       " '復帰': 31,\n",
       " '待た': 18,\n",
       " '投入': 6,\n",
       " '不安': 257,\n",
       " '混乱': 10,\n",
       " 'スクリーン': 29,\n",
       " 'セイバー': 4,\n",
       " 'スライド': 24,\n",
       " 'ショウ': 1,\n",
       " '稼働': 8,\n",
       " '似': 48,\n",
       " '識別': 7,\n",
       " 'コンテンツ': 208,\n",
       " '本数': 16,\n",
       " 'まだまだ': 46,\n",
       " '感じ': 1500,\n",
       " '含ま': 5,\n",
       " '増える': 47,\n",
       " '競合': 5,\n",
       " '淘汰': 1,\n",
       " 'しまう': 675,\n",
       " '性': 906,\n",
       " '独り勝ち': 1,\n",
       " '時点': 112,\n",
       " '例えば': 28,\n",
       " '減らし': 12,\n",
       " '有料': 102,\n",
       " '第': 74,\n",
       " '話': 139,\n",
       " '残り': 89,\n",
       " '間接': 7,\n",
       " '手法': 3,\n",
       " '含め': 81,\n",
       " '即': 161,\n",
       " '値上げ': 4,\n",
       " '事態': 19,\n",
       " '書き': 814,\n",
       " '無料': 459,\n",
       " 'すっかり': 13,\n",
       " '一家': 6,\n",
       " 'エッチ': 1,\n",
       " '薦め': 33,\n",
       " 'なれる': 4,\n",
       " '今回': 700,\n",
       " '割引': 40,\n",
       " '実質': 22,\n",
       " '上位': 29,\n",
       " '機種': 316,\n",
       " '迷っ': 67,\n",
       " 'ゲーム': 274,\n",
       " '選択': 232,\n",
       " '現在': 212,\n",
       " 'レンタル': 116,\n",
       " '内': 326,\n",
       " '聴く': 27,\n",
       " '世': 27,\n",
       " '代': 195,\n",
       " 'apple': 141,\n",
       " 'セッティング': 39,\n",
       " 'テレビ': 730,\n",
       " '差し': 293,\n",
       " '込み': 514,\n",
       " '最初': 537,\n",
       " '取れる': 24,\n",
       " '電力': 18,\n",
       " '説明': 738,\n",
       " '書': 387,\n",
       " '取る': 70,\n",
       " 'net': 80,\n",
       " 'flix': 68,\n",
       " 'hulu': 87,\n",
       " '各々': 3,\n",
       " 'ダウンロード': 101,\n",
       " 'インストール': 161,\n",
       " '多少': 216,\n",
       " '面倒': 274,\n",
       " '取ら': 54,\n",
       " '終え': 10,\n",
       " 'もたつく': 4,\n",
       " 'サクサク': 85,\n",
       " '動く': 54,\n",
       " 'appletv': 47,\n",
       " 'ニコニコ': 35,\n",
       " 'gyao': 31,\n",
       " 'マーケット': 14,\n",
       " 'nhk': 16,\n",
       " 'world': 6,\n",
       " 'live': 2,\n",
       " '適当': 36,\n",
       " '大き': 402,\n",
       " 'ひと': 126,\n",
       " 'まわり': 6,\n",
       " '大きく': 167,\n",
       " 'たら': 2281,\n",
       " '付き': 169,\n",
       " '思わ': 226,\n",
       " '楽': 147,\n",
       " 'いちいち': 46,\n",
       " 'あまり': 544,\n",
       " 'ストレス': 185,\n",
       " '感じる': 92,\n",
       " '思う': 520,\n",
       " '一定': 13,\n",
       " '風景': 14,\n",
       " '写真': 1361,\n",
       " 'セーバー': 10,\n",
       " '結果': 405,\n",
       " 'とっ': 165,\n",
       " '言え': 222,\n",
       " 'もともと': 64,\n",
       " '実際': 290,\n",
       " '思え': 153,\n",
       " 'すごく': 225,\n",
       " '利用': 574,\n",
       " '先日': 90,\n",
       " '新しい': 247,\n",
       " '発売': 95,\n",
       " 'siri': 4,\n",
       " 'プラス': 39,\n",
       " '個人': 240,\n",
       " '魅力': 72,\n",
       " '見送る': 1,\n",
       " '保存': 163,\n",
       " '以外': 338,\n",
       " 'コスパ': 204,\n",
       " '最高': 316,\n",
       " '大': 729,\n",
       " '楽しむ': 30,\n",
       " 'デバイス': 96,\n",
       " 'アダルト': 15,\n",
       " '制限': 51,\n",
       " 'レビュー': 995,\n",
       " 'み': 748,\n",
       " '心配': 317,\n",
       " '変': 153,\n",
       " 'なかなか': 280,\n",
       " '勝手': 449,\n",
       " '良く': 691,\n",
       " '使える': 361,\n",
       " '普通': 608,\n",
       " 'タイプ': 582,\n",
       " '使う': 847,\n",
       " 'いき': 117,\n",
       " 'そう': 1326,\n",
       " '途中': 115,\n",
       " '切れ': 197,\n",
       " 'カクカク': 29,\n",
       " '弱': 49,\n",
       " '安い': 1216,\n",
       " 'コンパクト': 91,\n",
       " 'microsoft': 9,\n",
       " 'ワイヤレス': 24,\n",
       " 'ディスプレイ': 170,\n",
       " 'アダプター': 129,\n",
       " 'サイズ': 1113,\n",
       " 'mi': 14,\n",
       " '繋げ': 54,\n",
       " '側面': 112,\n",
       " '備わっ': 2,\n",
       " '給電': 19,\n",
       " '出力': 106,\n",
       " '関係': 102,\n",
       " '書か': 151,\n",
       " 'タブレット': 318,\n",
       " '充電': 985,\n",
       " '社': 406,\n",
       " 'ac': 63,\n",
       " '放置': 46,\n",
       " 'おく': 96,\n",
       " 'コレクション': 1,\n",
       " '流し': 19,\n",
       " 'たく': 256,\n",
       " 'セットアップ': 87,\n",
       " 'ウィザード': 1,\n",
       " '行え': 17,\n",
       " 'よる': 149,\n",
       " 'チュートリアル': 4,\n",
       " '困る': 56,\n",
       " '少ない': 227,\n",
       " '既に': 110,\n",
       " 'リスト': 41,\n",
       " '上がっ': 147,\n",
       " '初期': 236,\n",
       " '空き': 13,\n",
       " 'gb': 384,\n",
       " '備え': 17,\n",
       " '率': 55,\n",
       " '乾': 13,\n",
       " '電池': 69,\n",
       " '式': 138,\n",
       " 'すぐ': 1184,\n",
       " '事': 1001,\n",
       " '家族': 172,\n",
       " '人気': 51,\n",
       " '作品': 135,\n",
       " '新作': 20,\n",
       " 'マイナー': 19,\n",
       " 'たどり着く': 1,\n",
       " 'ボタン': 895,\n",
       " '立ち': 69,\n",
       " '上がる': 24,\n",
       " '小学': 11,\n",
       " '子ども': 39,\n",
       " '扱え': 9,\n",
       " '状態': 771,\n",
       " '戻れる': 1,\n",
       " '分かり': 246,\n",
       " 'やすく': 36,\n",
       " 'パック': 130,\n",
       " 'マン': 10,\n",
       " '先': 173,\n",
       " '心がけ': 2,\n",
       " 'おけ': 88,\n",
       " 'プレー': 5,\n",
       " '楽しめ': 115,\n",
       " 'スティック': 139,\n",
       " '低下': 43,\n",
       " '製品': 1724,\n",
       " 'みんな': 47,\n",
       " '音質': 133,\n",
       " '楽しま': 8,\n",
       " 'もらっ': 129,\n",
       " '殆ど': 70,\n",
       " '追加': 190,\n",
       " '料金': 44,\n",
       " '無': 150,\n",
       " '機械': 72,\n",
       " '不': 933,\n",
       " '得意': 13,\n",
       " 'ドラマ': 212,\n",
       " 'メイク': 1,\n",
       " '寝る': 13,\n",
       " 'プレイ': 32,\n",
       " '流す': 7,\n",
       " 'マイ': 8,\n",
       " 'ブーム': 2,\n",
       " '消す': 12,\n",
       " 'ありがたい': 114,\n",
       " 'dvd': 641,\n",
       " 'ショップ': 147,\n",
       " '回数': 26,\n",
       " '減り': 142,\n",
       " '重宝': 283,\n",
       " 'ストレート': 1,\n",
       " '壁': 20,\n",
       " '隙間': 104,\n",
       " '取り外し': 103,\n",
       " '型': 206,\n",
       " '曲がっ': 58,\n",
       " 'いれ': 107,\n",
       " 'ま': 50,\n",
       " '運び': 98,\n",
       " '五': 35,\n",
       " '星': 338,\n",
       " 'airreceiver': 9,\n",
       " '出来': 1332,\n",
       " 'ios': 18,\n",
       " '目当て': 9,\n",
       " '導入': 29,\n",
       " '検討': 216,\n",
       " '用意': 40,\n",
       " 'bgm': 17,\n",
       " 'つない': 63,\n",
       " 'オーディオ': 77,\n",
       " '連続': 64,\n",
       " 'る': 603,\n",
       " '派': 19,\n",
       " 'ますます': 15,\n",
       " '遠のき': 1,\n",
       " '到着': 238,\n",
       " '入れ替え': 32,\n",
       " 'mm': 276,\n",
       " '長い': 115,\n",
       " 'microusb': 18,\n",
       " '突き出し': 1,\n",
       " 'むしろ': 37,\n",
       " '目立た': 46,\n",
       " 'メッセージ': 109,\n",
       " '負荷': 10,\n",
       " '足': 46,\n",
       " 'ペア': 14,\n",
       " 'リング': 20,\n",
       " '蓋': 161,\n",
       " '結構': 255,\n",
       " '固く': 52,\n",
       " '親指': 34,\n",
       " 'しっかり': 1027,\n",
       " '開か': 5,\n",
       " '言語': 10,\n",
       " '自宅': 142,\n",
       " 'ghz': 21,\n",
       " '帯': 45,\n",
       " 'アクセス': 51,\n",
       " '検出': 9,\n",
       " '別': 390,\n",
       " '近所': 40,\n",
       " 'elecom': 34,\n",
       " 'logitec': 9,\n",
       " '格': 11,\n",
       " '下': 337,\n",
       " 'メーカー': 1049,\n",
       " 'ghzap': 1,\n",
       " '探し': 412,\n",
       " 'くる': 185,\n",
       " '天下': 6,\n",
       " 'nec': 15,\n",
       " 'ルーター': 68,\n",
       " 'ノート': 210,\n",
       " 'inssider': 1,\n",
       " '調査': 20,\n",
       " 'ap': 11,\n",
       " '判明': 17,\n",
       " 'pa': 5,\n",
       " 'wr': 1,\n",
       " '共': 128,\n",
       " 'ルータ': 27,\n",
       " '差異': 1,\n",
       " 'an': 3,\n",
       " 'フォン': 166,\n",
       " '管理': 71,\n",
       " '解除': 64,\n",
       " '手動': 16,\n",
       " '指定': 43,\n",
       " 'しよう': 381,\n",
       " 'buffalo': 19,\n",
       " '屋外': 13,\n",
       " '帯域': 2,\n",
       " '範囲': 114,\n",
       " '外': 292,\n",
       " '方式': 13,\n",
       " 'wps': 5,\n",
       " '自社': 15,\n",
       " 'aoss': 1,\n",
       " 'らくらく': 6,\n",
       " '同時': 149,\n",
       " 'プッシュ': 5,\n",
       " '誰': 58,\n",
       " 'だろう': 298,\n",
       " '登録': 128,\n",
       " '完了': 104,\n",
       " '始め': 212,\n",
       " 'トラブル': 159,\n",
       " 'ソフトウェア': 8,\n",
       " '化': 58,\n",
       " '行っ': 116,\n",
       " '工場': 8,\n",
       " 'かかっ': 134,\n",
       " '進捗': 1,\n",
       " 'ほぼ': 183,\n",
       " 'わから': 168,\n",
       " 'フリーズ': 57,\n",
       " '見える': 101,\n",
       " '焦っ': 6,\n",
       " '抜い': 40,\n",
       " '付け': 414,\n",
       " '早速': 180,\n",
       " 'コマ': 20,\n",
       " 'め': 183,\n",
       " 'バッファ': 12,\n",
       " '引っこ抜い': 3,\n",
       " '流れ': 41,\n",
       " '続ける': 47,\n",
       " 'blue': 37,\n",
       " 'tooth': 34,\n",
       " '品': 1707,\n",
       " '周辺': 21,\n",
       " '機器': 240,\n",
       " 'マウス': 364,\n",
       " '一部': 114,\n",
       " 'ポインタ': 13,\n",
       " 'クリック': 50,\n",
       " '戻る': 22,\n",
       " '動か\\u3000ず': 3,\n",
       " '配列': 4,\n",
       " '英語': 109,\n",
       " 'けっこう': 20,\n",
       " 'セット': 311,\n",
       " 'bluedio': 1,\n",
       " '若干': 248,\n",
       " '遅延': 30,\n",
       " '実用': 44,\n",
       " '耐え': 69,\n",
       " '洋画': 19,\n",
       " '海外': 218,\n",
       " 'レベル': 164,\n",
       " 'とりあえず': 171,\n",
       " 'まぁまぁ': 16,\n",
       " 'やはり': 487,\n",
       " 'てこ\\u3000そだ\\u3000な': 1,\n",
       " '正直': 228,\n",
       " '感想': 72,\n",
       " 'コンセント': 66,\n",
       " 'firetv': 65,\n",
       " '余分': 22,\n",
       " '長く': 136,\n",
       " '這う': 1,\n",
       " '見苦しい': 1,\n",
       " 'ibuffalo': 9,\n",
       " '用': 1740,\n",
       " 'ピン': 52,\n",
       " 'メガネ': 48,\n",
       " 'プラグ': 71,\n",
       " '個': 248,\n",
       " '口': 107,\n",
       " '割り': 66,\n",
       " '込ま': 99,\n",
       " '裏': 223,\n",
       " '差': 254,\n",
       " '込': 48,\n",
       " 'カバー': 1949,\n",
       " 'おおわ': 1,\n",
       " '挿す': 56,\n",
       " '閉まら': 5,\n",
       " 'ハードウェア': 9,\n",
       " '要望': 16,\n",
       " '挿入': 79,\n",
       " '方向': 44,\n",
       " '向かっ': 17,\n",
       " '対極': 1,\n",
       " 'ください': 378,\n",
       " 'どちら': 183,\n",
       " '選べる': 10,\n",
       " '共存': 1,\n",
       " 'ヌルヌル': 7,\n",
       " '家': 180,\n",
       " 'ゆっくり': 22,\n",
       " '大変': 474,\n",
       " '値引き': 15,\n",
       " '正解': 134,\n",
       " 'もはや': 13,\n",
       " '付加': 6,\n",
       " '価値': 115,\n",
       " '付ける': 36,\n",
       " '取り組み': 6,\n",
       " '充実': 102,\n",
       " '行く': 111,\n",
       " '願っ': 13,\n",
       " 'ヶ月': 229,\n",
       " '経過': 50,\n",
       " '無く': 408,\n",
       " '物\\u3000な': 14,\n",
       " '当たり': 142,\n",
       " '外れ': 222,\n",
       " '様': 35,\n",
       " '落とし': 336,\n",
       " '長持ち': 83,\n",
       " 'カギ': 3,\n",
       " 'コード': 250,\n",
       " 'スイッチ': 113,\n",
       " '切る': 34,\n",
       " '落とせる': 1,\n",
       " 'もっと': 476,\n",
       " '種類': 133,\n",
       " '勿論': 40,\n",
       " 'たくさん': 125,\n",
       " '子供': 256,\n",
       " '鬼': 3,\n",
       " '太郎': 4,\n",
       " '楽しく': 35,\n",
       " 'かんじ': 46,\n",
       " 'ただ': 484,\n",
       " 'トップ': 24,\n",
       " 'ページ': 69,\n",
       " 'よろしく': 56,\n",
       " 'タイトル': 141,\n",
       " 'くれる': 234,\n",
       " '達': 22,\n",
       " '概ね': 34,\n",
       " '軽快': 14,\n",
       " 'ps': 178,\n",
       " '見る': 515,\n",
       " '案外': 8,\n",
       " '不満': 193,\n",
       " 'やめ': 85,\n",
       " '実情': 1,\n",
       " '理由': 128,\n",
       " 'しまっ': 750,\n",
       " '仕事': 154,\n",
       " '急ぎ': 69,\n",
       " '品物': 159,\n",
       " '金': 311,\n",
       " 'はらっ': 2,\n",
       " '帰っ': 12,\n",
       " 'つまら': 11,\n",
       " '挿し': 141,\n",
       " '外国': 39,\n",
       " '土': 3,\n",
       " '日': 897,\n",
       " '楽しん': 128,\n",
       " 'いま': 118,\n",
       " '嵌っ': 2,\n",
       " 'house': 3,\n",
       " 'あと': 311,\n",
       " 'ちょっと': 556,\n",
       " '孤独': 5,\n",
       " 'グルメ': 5,\n",
       " '行ける': 4,\n",
       " 'パラパラ': 3,\n",
       " '勧め': 535,\n",
       " 'bones': 1,\n",
       " 'csi': 3,\n",
       " '怖い': 38,\n",
       " 'グロイシーン': 1,\n",
       " '推理': 1,\n",
       " '物': 854,\n",
       " '警察': 1,\n",
       " 'すすめ': 356,\n",
       " '邪魔': 119,\n",
       " '聴き': 11,\n",
       " '効率': 6,\n",
       " '聞け': 14,\n",
       " '操ら': 1,\n",
       " '絵': 38,\n",
       " 'そこそこ': 72,\n",
       " 'やっ': 262,\n",
       " '一瞬': 31,\n",
       " 'いじっ': 6,\n",
       " 'dl': 127,\n",
       " 'よかっ': 717,\n",
       " '観': 249,\n",
       " '感激': 28,\n",
       " '日々': 32,\n",
       " '欲しい': 299,\n",
       " 'よく': 793,\n",
       " '観る': 76,\n",
       " '小さい': 248,\n",
       " '考え': 599,\n",
       " '古い': 172,\n",
       " '思い出': 16,\n",
       " '注文': 591,\n",
       " '変身': 8,\n",
       " '感動': 66,\n",
       " '立ち上げ': 14,\n",
       " '楽々': 12,\n",
       " 'ついつい': 12,\n",
       " '欠点': 51,\n",
       " 'すれ': 309,\n",
       " '辺り': 20,\n",
       " '良かっ': 788,\n",
       " 'かなー': 10,\n",
       " 'まぁ': 191,\n",
       " 'さすが': 209,\n",
       " 'スピーカー': 219,\n",
       " 'しょぼかっ': 1,\n",
       " '付': 50,\n",
       " 'パスワード': 46,\n",
       " '家庭': 50,\n",
       " '課金': 16,\n",
       " 'かけ': 215,\n",
       " 'おい': 205,\n",
       " 'つか': 84,\n",
       " '改造': 6,\n",
       " '色': 1522,\n",
       " '野良': 2,\n",
       " '遊べ': 6,\n",
       " '色々': 146,\n",
       " '遊ぶ': 7,\n",
       " '箱': 185,\n",
       " '形': 181,\n",
       " '番': 110,\n",
       " 'dtv': 16,\n",
       " '視点': 3,\n",
       " 'まず': 231,\n",
       " '開発': 51,\n",
       " 'オプション': 7,\n",
       " 'adb': 1,\n",
       " 'デバッグ': 2,\n",
       " '不明': 95,\n",
       " 'on': 160,\n",
       " 'es': 3,\n",
       " 'エクスプローラ': 2,\n",
       " 'dropbox': 2,\n",
       " '連携': 22,\n",
       " 'そ': 18,\n",
       " 'こ': 21,\n",
       " 'apk': 2,\n",
       " '切り替わり': 1,\n",
       " 'android': 43,\n",
       " '端末': 140,\n",
       " '抽出': 4,\n",
       " '無けれ': 5,\n",
       " 'ましょう': 97,\n",
       " 'ok': 126,\n",
       " '次': 228,\n",
       " '行け': 25,\n",
       " '買い': 1689,\n",
       " '無かっ': 109,\n",
       " '書い': 418,\n",
       " '教え': 67,\n",
       " '下さい': 139,\n",
       " 'イジ': 1,\n",
       " '最小': 11,\n",
       " '限': 33,\n",
       " 'ストリーミング': 26,\n",
       " '組': 14,\n",
       " '値段': 1932,\n",
       " '引っかかり': 20,\n",
       " '癒さ': 1,\n",
       " 'drive': 11,\n",
       " 'アップ': 83,\n",
       " 'ロード': 29,\n",
       " '切り替え': 36,\n",
       " 'ご': 286,\n",
       " '存知': 2,\n",
       " '丁度': 65,\n",
       " 'フォト': 27,\n",
       " 'フレーム': 28,\n",
       " '流れる': 7,\n",
       " '凄く': 63,\n",
       " '新し': 3,\n",
       " '多く': 321,\n",
       " '費用': 51,\n",
       " '額': 26,\n",
       " 'もったい': 48,\n",
       " ...}"
      ]
     },
     "execution_count": 68,
     "metadata": {},
     "output_type": "execute_result"
    }
   ],
   "source": [
    "vocabulary_count_dict"
   ]
  },
  {
   "cell_type": "markdown",
   "metadata": {},
   "source": [
    "# Download the Japanese Word2Vec from Fasttext"
   ]
  },
  {
   "cell_type": "code",
   "execution_count": 0,
   "metadata": {
    "colab": {},
    "colab_type": "code",
    "id": "MKkpo9NVdWm4"
   },
   "outputs": [],
   "source": [
    "fasttext.util.download_model('ja', if_exists='ignore')"
   ]
  },
  {
   "cell_type": "code",
   "execution_count": 14,
   "metadata": {
    "colab": {},
    "colab_type": "code",
    "id": "L-R6FKWGih42"
   },
   "outputs": [
    {
     "name": "stderr",
     "output_type": "stream",
     "text": [
      "Warning : `load_model` does not return WordVectorModel or SupervisedModel any more, but a `FastText` object which is very similar.\n"
     ]
    }
   ],
   "source": [
    "embedding = fasttext.load_model(r'E:\\Google Word2Vec Pre-trained Model\\cc.ja.300.bin')"
   ]
  },
  {
   "cell_type": "markdown",
   "metadata": {},
   "source": [
    "# Filter the Japanese Vocabulary for each document"
   ]
  },
  {
   "cell_type": "code",
   "execution_count": 18,
   "metadata": {},
   "outputs": [
    {
     "name": "stderr",
     "output_type": "stream",
     "text": [
      "100%|██████████| 20000/20000 [00:01<00:00, 18884.07it/s]\n"
     ]
    }
   ],
   "source": [
    "X = []\n",
    "\n",
    "for x in tqdm(corpus):\n",
    "  text = []\n",
    "  tokens = x.split(\" \")\n",
    "  for token in tokens:\n",
    "    if token in vocabulary_count_dict.keys():\n",
    "      text.append(token)\n",
    "  X.append(text)"
   ]
  },
  {
   "cell_type": "markdown",
   "metadata": {},
   "source": [
    "# Create the Embedding Matrix required to feed in Neural Network"
   ]
  },
  {
   "cell_type": "code",
   "execution_count": 21,
   "metadata": {
    "colab": {},
    "colab_type": "code",
    "id": "RD2E47D9OiEr"
   },
   "outputs": [],
   "source": [
    "MAX_NB_WORDS = 25000\n",
    "MAX_SEQUENCE_LENGTH = 100"
   ]
  },
  {
   "cell_type": "code",
   "execution_count": 22,
   "metadata": {
    "colab": {},
    "colab_type": "code",
    "id": "KpExtk0HLIAm"
   },
   "outputs": [
    {
     "name": "stdout",
     "output_type": "stream",
     "text": [
      "Found 12180 unique tokens.\n"
     ]
    }
   ],
   "source": [
    "tokenizer = Tokenizer(nb_words=MAX_NB_WORDS)\n",
    "tokenizer.fit_on_texts(X)\n",
    "sequences = tokenizer.texts_to_sequences(X)\n",
    "\n",
    "word_index = tokenizer.word_index\n",
    "print('Found %s unique tokens.' % len(word_index))\n",
    "\n",
    "data = pad_sequences(sequences, maxlen=MAX_SEQUENCE_LENGTH)"
   ]
  },
  {
   "cell_type": "code",
   "execution_count": 23,
   "metadata": {
    "colab": {},
    "colab_type": "code",
    "id": "38_1Z05N9_6W"
   },
   "outputs": [],
   "source": [
    "EMBEDDING_DIM = embedding.get_dimension()"
   ]
  },
  {
   "cell_type": "code",
   "execution_count": 24,
   "metadata": {
    "colab": {},
    "colab_type": "code",
    "id": "XCq5ncgs81AW"
   },
   "outputs": [],
   "source": [
    "embedding_matrix = np.zeros((len(word_index) + 1, EMBEDDING_DIM))"
   ]
  },
  {
   "cell_type": "code",
   "execution_count": 25,
   "metadata": {
    "colab": {},
    "colab_type": "code",
    "id": "oVnUpw0r9syJ"
   },
   "outputs": [],
   "source": [
    "for word, i in word_index.items():\n",
    "    embedding_vector = embedding.get_word_vector(word)\n",
    "    if embedding_vector is not None:\n",
    "        # words not found in embedding index will be all-zeros.\n",
    "        embedding_matrix[i] = embedding_vector"
   ]
  },
  {
   "cell_type": "code",
   "execution_count": 27,
   "metadata": {},
   "outputs": [],
   "source": [
    "embedding_matrix_file = open(r\"E:\\Japanese Sentiment Analysis\\Japanese Sentiment Analysis-1\\embedding_matrix.pkl\", \"wb\")\n",
    "pickle.dump(embedding_matrix, embedding_matrix_file)\n",
    "embedding_matrix_file.close()"
   ]
  },
  {
   "cell_type": "markdown",
   "metadata": {},
   "source": [
    "# Prepare the Numerical Data and Split into Train-Test Dataset"
   ]
  },
  {
   "cell_type": "code",
   "execution_count": 28,
   "metadata": {
    "colab": {},
    "colab_type": "code",
    "id": "fj4PXqfL-jK-"
   },
   "outputs": [],
   "source": [
    "y = np.array(list(np.ones([len(positive_clean)])) + list(np.zeros([len(negative_clean)])))"
   ]
  },
  {
   "cell_type": "code",
   "execution_count": 29,
   "metadata": {
    "colab": {},
    "colab_type": "code",
    "id": "XyuHesM3Ehx4"
   },
   "outputs": [],
   "source": [
    "y_categorical = to_categorical(y)"
   ]
  },
  {
   "cell_type": "code",
   "execution_count": 30,
   "metadata": {
    "colab": {
     "base_uri": "https://localhost:8080/",
     "height": 34
    },
    "colab_type": "code",
    "id": "VK1NGYmBRBh4",
    "outputId": "e3dd4807-b7ee-44f6-923f-02117bcf5ea1"
   },
   "outputs": [
    {
     "data": {
      "text/plain": [
       "(20000, 2)"
      ]
     },
     "execution_count": 30,
     "metadata": {},
     "output_type": "execute_result"
    }
   ],
   "source": [
    "y_categorical.shape"
   ]
  },
  {
   "cell_type": "code",
   "execution_count": 31,
   "metadata": {
    "colab": {},
    "colab_type": "code",
    "id": "rtNq-0Z5AbJI"
   },
   "outputs": [],
   "source": [
    "X_train,X_val,y_train,y_val = train_test_split(data,y_categorical,train_size=0.95,random_state=10)\n",
    "X_train,X_test,y_train,y_test = train_test_split(X_train,y_train,train_size=0.8,random_state=10)"
   ]
  },
  {
   "cell_type": "markdown",
   "metadata": {},
   "source": [
    "# Create the Model using Embedding Matrix, GRU and Dense Layers"
   ]
  },
  {
   "cell_type": "code",
   "execution_count": 35,
   "metadata": {
    "colab": {},
    "colab_type": "code",
    "id": "iyxAANSvFArL"
   },
   "outputs": [],
   "source": [
    "inp = Input(shape=(MAX_SEQUENCE_LENGTH,))\n",
    "x = Embedding(len(word_index) + 1, EMBEDDING_DIM, weights=[embedding_matrix],input_length=MAX_SEQUENCE_LENGTH,trainable=False)(inp)\n",
    "x = Bidirectional(GRU(256, return_sequences=True))(x)\n",
    "x = Bidirectional(GRU(128, return_sequences=True))(x)\n",
    "x = Bidirectional(GRU(64, return_sequences=True))(x)\n",
    "x = Bidirectional(GRU(32, return_sequences=True))(x)\n",
    "avg_pl = GlobalAveragePooling1D()(x)\n",
    "max_pl = GlobalMaxPooling1D()(x)\n",
    "concat = concatenate([avg_pl, max_pl])\n",
    "dense  = Dense(256, activation=\"relu\")(concat)\n",
    "dense  = Dense(128, activation=\"relu\")(concat)\n",
    "dense  = Dense(64, activation=\"relu\")(concat)\n",
    "drop   = Dropout(0.4)(concat)\n",
    "output = Dense(2, activation=\"softmax\")(concat)"
   ]
  },
  {
   "cell_type": "code",
   "execution_count": 44,
   "metadata": {
    "colab": {},
    "colab_type": "code",
    "id": "0eC_220FPgsr"
   },
   "outputs": [],
   "source": [
    "model  = Model(inputs=inp, outputs=output)"
   ]
  },
  {
   "cell_type": "code",
   "execution_count": 45,
   "metadata": {
    "colab": {},
    "colab_type": "code",
    "id": "BDrauCyJPm_W"
   },
   "outputs": [],
   "source": [
    "model.compile(loss='categorical_crossentropy', optimizer=Adam(lr=0.0001,amsgrad=True), metrics=['accuracy'])"
   ]
  },
  {
   "cell_type": "code",
   "execution_count": 46,
   "metadata": {
    "colab": {
     "base_uri": "https://localhost:8080/",
     "height": 504
    },
    "colab_type": "code",
    "id": "1CaqMGptVpji",
    "outputId": "5759f223-5024-44fb-c434-1a43877da9ef"
   },
   "outputs": [
    {
     "name": "stdout",
     "output_type": "stream",
     "text": [
      "Model: \"model_2\"\n",
      "__________________________________________________________________________________________________\n",
      "Layer (type)                    Output Shape         Param #     Connected to                     \n",
      "==================================================================================================\n",
      "input_3 (InputLayer)            (None, 100)          0                                            \n",
      "__________________________________________________________________________________________________\n",
      "embedding_3 (Embedding)         (None, 100, 300)     3654300     input_3[0][0]                    \n",
      "__________________________________________________________________________________________________\n",
      "bidirectional_5 (Bidirectional) (None, 100, 512)     855552      embedding_3[0][0]                \n",
      "__________________________________________________________________________________________________\n",
      "bidirectional_6 (Bidirectional) (None, 100, 256)     492288      bidirectional_5[0][0]            \n",
      "__________________________________________________________________________________________________\n",
      "bidirectional_7 (Bidirectional) (None, 100, 128)     123264      bidirectional_6[0][0]            \n",
      "__________________________________________________________________________________________________\n",
      "bidirectional_8 (Bidirectional) (None, 100, 64)      30912       bidirectional_7[0][0]            \n",
      "__________________________________________________________________________________________________\n",
      "global_average_pooling1d_2 (Glo (None, 64)           0           bidirectional_8[0][0]            \n",
      "__________________________________________________________________________________________________\n",
      "global_max_pooling1d_2 (GlobalM (None, 64)           0           bidirectional_8[0][0]            \n",
      "__________________________________________________________________________________________________\n",
      "concatenate_2 (Concatenate)     (None, 128)          0           global_average_pooling1d_2[0][0] \n",
      "                                                                 global_max_pooling1d_2[0][0]     \n",
      "__________________________________________________________________________________________________\n",
      "dense_8 (Dense)                 (None, 2)            258         concatenate_2[0][0]              \n",
      "==================================================================================================\n",
      "Total params: 5,156,574\n",
      "Trainable params: 1,502,274\n",
      "Non-trainable params: 3,654,300\n",
      "__________________________________________________________________________________________________\n"
     ]
    }
   ],
   "source": [
    "model.summary()"
   ]
  },
  {
   "cell_type": "code",
   "execution_count": 47,
   "metadata": {
    "colab": {},
    "colab_type": "code",
    "id": "u_zYFz9MPvvi"
   },
   "outputs": [],
   "source": [
    "epochs = 50\n",
    "batch_size = 10"
   ]
  },
  {
   "cell_type": "markdown",
   "metadata": {},
   "source": [
    "# Define the Callbacks for Early Stopping and Model-Checkpoint"
   ]
  },
  {
   "cell_type": "code",
   "execution_count": 48,
   "metadata": {
    "colab": {},
    "colab_type": "code",
    "id": "C3KmZGWEOqZN"
   },
   "outputs": [],
   "source": [
    "early_stopping = EarlyStopping(monitor='val_loss', mode='min', verbose=1,patience=5)\n",
    "model_checkpoint = ModelCheckpoint('best_model__10000PositiveNegative.h5', monitor='val_accuracy', mode='max', verbose=1, save_best_only=True)"
   ]
  },
  {
   "cell_type": "markdown",
   "metadata": {},
   "source": [
    "# Train the Model"
   ]
  },
  {
   "cell_type": "code",
   "execution_count": 49,
   "metadata": {
    "colab": {
     "base_uri": "https://localhost:8080/",
     "height": 1000
    },
    "colab_type": "code",
    "id": "PjsuTtPrPy6y",
    "outputId": "4465d693-9ddd-4000-ba0d-27264c8db541"
   },
   "outputs": [
    {
     "name": "stdout",
     "output_type": "stream",
     "text": [
      "Train on 15200 samples, validate on 1000 samples\n",
      "Epoch 1/50\n",
      "\n",
      "Epoch 00001: val_accuracy improved from -inf to 0.86700, saving model to best_model__10000PositiveNegative.h5\n",
      "Epoch 2/50\n",
      "\n",
      "Epoch 00002: val_accuracy improved from 0.86700 to 0.89500, saving model to best_model__10000PositiveNegative.h5\n",
      "Epoch 3/50\n",
      "\n",
      "Epoch 00003: val_accuracy did not improve from 0.89500\n",
      "Epoch 4/50\n",
      "\n",
      "Epoch 00004: val_accuracy improved from 0.89500 to 0.89800, saving model to best_model__10000PositiveNegative.h5\n",
      "Epoch 5/50\n",
      "\n",
      "Epoch 00005: val_accuracy improved from 0.89800 to 0.90400, saving model to best_model__10000PositiveNegative.h5\n",
      "Epoch 6/50\n",
      "\n",
      "Epoch 00006: val_accuracy did not improve from 0.90400\n",
      "Epoch 7/50\n",
      "\n",
      "Epoch 00007: val_accuracy improved from 0.90400 to 0.90600, saving model to best_model__10000PositiveNegative.h5\n",
      "Epoch 8/50\n",
      "\n",
      "Epoch 00008: val_accuracy improved from 0.90600 to 0.91200, saving model to best_model__10000PositiveNegative.h5\n",
      "Epoch 9/50\n",
      "\n",
      "Epoch 00009: val_accuracy improved from 0.91200 to 0.92600, saving model to best_model__10000PositiveNegative.h5\n",
      "Epoch 10/50\n",
      "\n",
      "Epoch 00010: val_accuracy improved from 0.92600 to 0.92800, saving model to best_model__10000PositiveNegative.h5\n",
      "Epoch 11/50\n",
      "\n",
      "Epoch 00011: val_accuracy improved from 0.92800 to 0.92900, saving model to best_model__10000PositiveNegative.h5\n",
      "Epoch 12/50\n",
      "\n",
      "Epoch 00012: val_accuracy did not improve from 0.92900\n",
      "Epoch 13/50\n",
      "\n",
      "Epoch 00013: val_accuracy did not improve from 0.92900\n",
      "Epoch 00013: early stopping\n"
     ]
    }
   ],
   "source": [
    "history = model.fit(X_train, y_train, batch_size=batch_size, epochs=epochs, validation_data=[X_val, y_val],verbose=4,callbacks=[early_stopping,model_checkpoint])"
   ]
  },
  {
   "cell_type": "code",
   "execution_count": 50,
   "metadata": {
    "colab": {
     "base_uri": "https://localhost:8080/",
     "height": 483
    },
    "colab_type": "code",
    "id": "fILML-lzHjd2",
    "outputId": "c154578c-ef6c-4e29-a4bf-357dfe2d833d"
   },
   "outputs": [
    {
     "data": {
      "image/png": "[encoded data removed]",
      "text/plain": [
       "<Figure size 864x576 with 1 Axes>"
      ]
     },
     "metadata": {
      "needs_background": "light"
     },
     "output_type": "display_data"
    }
   ],
   "source": [
    "plt.figure(figsize=(12,8))\n",
    "plt.plot(history.history['accuracy'], label='Train Accuracy')\n",
    "plt.plot(history.history['val_accuracy'], label='Test Accuracy')\n",
    "plt.legend()\n",
    "plt.show()"
   ]
  },
  {
   "cell_type": "code",
   "execution_count": 51,
   "metadata": {
    "colab": {
     "base_uri": "https://localhost:8080/",
     "height": 483
    },
    "colab_type": "code",
    "id": "OIl8ldbskMWV",
    "outputId": "2ddcafc9-5b83-4ef4-f150-2f08ba4f8dd0"
   },
   "outputs": [
    {
     "data": {
      "image/png": "[encoded data removed]",
      "text/plain": [
       "<Figure size 864x576 with 1 Axes>"
      ]
     },
     "metadata": {
      "needs_background": "light"
     },
     "output_type": "display_data"
    }
   ],
   "source": [
    "plt.figure(figsize=(12,8))\n",
    "plt.plot(history.history['loss'], label='Train Loss')\n",
    "plt.plot(history.history['val_loss'], label='Test Loss')\n",
    "plt.legend()\n",
    "plt.show()"
   ]
  },
  {
   "cell_type": "markdown",
   "metadata": {},
   "source": [
    "# Evaluating the Model"
   ]
  },
  {
   "cell_type": "code",
   "execution_count": 52,
   "metadata": {
    "colab": {},
    "colab_type": "code",
    "id": "NAwOfB2RkW3y"
   },
   "outputs": [],
   "source": [
    "y_pred = model.predict(X_test)"
   ]
  },
  {
   "cell_type": "code",
   "execution_count": 53,
   "metadata": {
    "colab": {},
    "colab_type": "code",
    "id": "CC2G9XkVkomr"
   },
   "outputs": [],
   "source": [
    "y_pred = np.around(y_pred)"
   ]
  },
  {
   "cell_type": "code",
   "execution_count": 54,
   "metadata": {
    "colab": {
     "base_uri": "https://localhost:8080/",
     "height": 34
    },
    "colab_type": "code",
    "id": "-EIC7QxJk_aN",
    "outputId": "04b3685e-71b1-49d8-e13f-ea451e4ab862"
   },
   "outputs": [
    {
     "data": {
      "text/plain": [
       "0.9136842105263158"
      ]
     },
     "execution_count": 54,
     "metadata": {},
     "output_type": "execute_result"
    }
   ],
   "source": [
    "# accuracy: (tp + tn) / (p + n)\n",
    "accuracy_score(y_test,y_pred)"
   ]
  },
  {
   "cell_type": "code",
   "execution_count": 69,
   "metadata": {},
   "outputs": [
    {
     "name": "stdout",
     "output_type": "stream",
     "text": [
      "Train: 0.977, Test: 0.914\n"
     ]
    }
   ],
   "source": [
    "_, train_acc = model.evaluate(X_train, y_train, verbose=0)\n",
    "_, test_acc = model.evaluate(X_test, y_test, verbose=0)\n",
    "print('Train: %.3f, Test: %.3f' % (train_acc, test_acc))"
   ]
  },
  {
   "cell_type": "code",
   "execution_count": 71,
   "metadata": {},
   "outputs": [
    {
     "data": {
      "image/png": "[encoded data removed]",
      "text/plain": [
       "<Figure size 576x396 with 2 Axes>"
      ]
     },
     "metadata": {},
     "output_type": "display_data"
    }
   ],
   "source": [
    "# plot loss during training\n",
    "plt.subplot(211)\n",
    "plt.title('Loss')\n",
    "plt.plot(history.history['loss'], label='train')\n",
    "plt.plot(history.history['val_loss'], label='test')\n",
    "plt.legend()\n",
    "# plot accuracy during training\n",
    "plt.subplot(212)\n",
    "plt.title('Accuracy')\n",
    "plt.plot(history.history['accuracy'], label='train')\n",
    "plt.plot(history.history['val_accuracy'], label='test')\n",
    "plt.legend()\n",
    "plt.show()"
   ]
  },
  {
   "cell_type": "code",
   "execution_count": 72,
   "metadata": {},
   "outputs": [],
   "source": [
    "from sklearn.metrics import precision_recall_curve\n",
    "from sklearn.metrics import accuracy_score\n",
    "from sklearn.metrics import precision_score\n",
    "from sklearn.metrics import recall_score\n",
    "from sklearn.metrics import f1_score\n",
    "from sklearn.metrics import cohen_kappa_score\n",
    "from sklearn.metrics import roc_auc_score"
   ]
  },
  {
   "cell_type": "code",
   "execution_count": 56,
   "metadata": {},
   "outputs": [],
   "source": [
    "import itertools\n",
    "\n",
    "# Create a confusion matrix\n",
    "def plot_confusion_matrix(cm, classes,\n",
    "                          normalize=False,\n",
    "                          title='Confusion matrix',\n",
    "                          cmap=plt.cm.Blues):\n",
    "    \"\"\"\n",
    "    This function prints and plots the confusion matrix.\n",
    "    Normalization can be applied by setting `normalize=True`.\n",
    "    \"\"\"\n",
    "    if normalize:\n",
    "        cm = cm.astype('float') / cm.sum(axis=1)[:, np.newaxis]\n",
    "        print(\"Normalized confusion matrix\")\n",
    "    else:\n",
    "        print('Confusion matrix, without normalization')\n",
    "\n",
    "    print(cm)\n",
    "\n",
    "    plt.imshow(cm, interpolation='nearest', cmap=cmap)\n",
    "    plt.title(title, fontsize=14)\n",
    "    plt.colorbar()\n",
    "    tick_marks = np.arange(len(classes))\n",
    "    plt.xticks(tick_marks, classes, rotation=45)\n",
    "    plt.yticks(tick_marks, classes)\n",
    "\n",
    "    fmt = '.2f' if normalize else 'd'\n",
    "    thresh = cm.max() / 2.\n",
    "    for i, j in itertools.product(range(cm.shape[0]), range(cm.shape[1])):\n",
    "        plt.text(j, i, format(cm[i, j], fmt),\n",
    "                 horizontalalignment=\"center\",\n",
    "                 color=\"white\" if cm[i, j] > thresh else \"black\")\n",
    "\n",
    "    plt.tight_layout()\n",
    "    plt.ylabel('True label')\n",
    "    plt.xlabel('Predicted label')"
   ]
  },
  {
   "cell_type": "code",
   "execution_count": 57,
   "metadata": {
    "colab": {
     "base_uri": "https://localhost:8080/",
     "height": 50
    },
    "colab_type": "code",
    "id": "lw2aSXLbnIsX",
    "outputId": "f067c6d3-1778-4a06-fb89-dcf7b6815aea"
   },
   "outputs": [],
   "source": [
    "confusion_matrix = confusion_matrix(y_test.argmax(axis=1), y_pred.argmax(axis=1))"
   ]
  },
  {
   "cell_type": "code",
   "execution_count": 58,
   "metadata": {},
   "outputs": [
    {
     "name": "stdout",
     "output_type": "stream",
     "text": [
      "Confusion matrix, without normalization\n",
      "[[1776  114]\n",
      " [ 214 1696]]\n"
     ]
    },
    {
     "data": {
      "image/png": "[encoded data removed]",
      "text/plain": [
       "<Figure size 432x288 with 2 Axes>"
      ]
     },
     "metadata": {
      "needs_background": "light"
     },
     "output_type": "display_data"
    }
   ],
   "source": [
    "plot_confusion_matrix(confusion_matrix,classes=['Negative','Positive'])"
   ]
  },
  {
   "cell_type": "code",
   "execution_count": 78,
   "metadata": {},
   "outputs": [
    {
     "name": "stdout",
     "output_type": "stream",
     "text": [
      "Precision: 0.937017\n"
     ]
    }
   ],
   "source": [
    "# precision tp / (tp + fp)\n",
    "precision = precision_score(y_test.argmax(axis=1),y_pred.argmax(axis=1))\n",
    "print('Precision: %f' % precision)"
   ]
  },
  {
   "cell_type": "code",
   "execution_count": 79,
   "metadata": {},
   "outputs": [
    {
     "name": "stdout",
     "output_type": "stream",
     "text": [
      "Recall: 0.887958\n"
     ]
    }
   ],
   "source": [
    "# recall: tp / (tp + fn)\n",
    "recall = recall_score(y_test.argmax(axis=1),y_pred.argmax(axis=1))\n",
    "print('Recall: %f' % recall)"
   ]
  },
  {
   "cell_type": "code",
   "execution_count": 80,
   "metadata": {},
   "outputs": [
    {
     "name": "stdout",
     "output_type": "stream",
     "text": [
      "F1 score: 0.911828\n"
     ]
    }
   ],
   "source": [
    "# f1: 2 tp / (2 tp + fp + fn)\n",
    "f1 = f1_score(y_test.argmax(axis=1),y_pred.argmax(axis=1))\n",
    "print('F1 score: %f' % f1)"
   ]
  },
  {
   "cell_type": "code",
   "execution_count": 81,
   "metadata": {},
   "outputs": [
    {
     "name": "stdout",
     "output_type": "stream",
     "text": [
      "Cohens kappa: 0.827411\n"
     ]
    }
   ],
   "source": [
    "# kappa\n",
    "kappa = cohen_kappa_score(y_test.argmax(axis=1),y_pred.argmax(axis=1))\n",
    "print('Cohens kappa: %f' % kappa)"
   ]
  },
  {
   "cell_type": "code",
   "execution_count": 82,
   "metadata": {},
   "outputs": [
    {
     "name": "stdout",
     "output_type": "stream",
     "text": [
      "ROC AUC: 0.913820\n"
     ]
    }
   ],
   "source": [
    "# ROC AUC\n",
    "auc = roc_auc_score(y_test.argmax(axis=1),y_pred.argmax(axis=1))\n",
    "print('ROC AUC: %f' % auc)"
   ]
  },
  {
   "cell_type": "code",
   "execution_count": 83,
   "metadata": {
    "colab": {},
    "colab_type": "code",
    "id": "lis5QjznnNX7"
   },
   "outputs": [],
   "source": [
    "report = classification_report(y_test,y_pred,output_dict=True)"
   ]
  },
  {
   "cell_type": "code",
   "execution_count": 84,
   "metadata": {
    "colab": {},
    "colab_type": "code",
    "id": "b6W2n0ySnsP-"
   },
   "outputs": [],
   "source": [
    "classification_report_df = pd.DataFrame(report).transpose()"
   ]
  },
  {
   "cell_type": "markdown",
   "metadata": {},
   "source": [
    "# Classification Report"
   ]
  },
  {
   "cell_type": "code",
   "execution_count": 100,
   "metadata": {
    "colab": {},
    "colab_type": "code",
    "id": "smgDajMNoPg7"
   },
   "outputs": [
    {
     "data": {
      "text/html": [
       "<style  type=\"text/css\" >\n",
       "    #T_6a8d0498_9e74_11ea_8d66_94e979587969row0_col0 {\n",
       "            background-color:  #ff0000;\n",
       "            color:  #f1f1f1;\n",
       "        }    #T_6a8d0498_9e74_11ea_8d66_94e979587969row0_col1 {\n",
       "            background-color:  #ff0018;\n",
       "            color:  #f1f1f1;\n",
       "        }    #T_6a8d0498_9e74_11ea_8d66_94e979587969row0_col2 {\n",
       "            background-color:  #ff0018;\n",
       "            color:  #f1f1f1;\n",
       "        }    #T_6a8d0498_9e74_11ea_8d66_94e979587969row1_col0 {\n",
       "            background-color:  #ff0018;\n",
       "            color:  #f1f1f1;\n",
       "        }    #T_6a8d0498_9e74_11ea_8d66_94e979587969row1_col1 {\n",
       "            background-color:  #ff0000;\n",
       "            color:  #f1f1f1;\n",
       "        }    #T_6a8d0498_9e74_11ea_8d66_94e979587969row1_col2 {\n",
       "            background-color:  #ff0000;\n",
       "            color:  #f1f1f1;\n",
       "        }    #T_6a8d0498_9e74_11ea_8d66_94e979587969row2_col0 {\n",
       "            background-color:  #00ffcd;\n",
       "            color:  #000000;\n",
       "        }    #T_6a8d0498_9e74_11ea_8d66_94e979587969row2_col1 {\n",
       "            background-color:  #00fff0;\n",
       "            color:  #000000;\n",
       "        }    #T_6a8d0498_9e74_11ea_8d66_94e979587969row2_col2 {\n",
       "            background-color:  #00fcff;\n",
       "            color:  #000000;\n",
       "        }    #T_6a8d0498_9e74_11ea_8d66_94e979587969row3_col0 {\n",
       "            background-color:  #00fff6;\n",
       "            color:  #000000;\n",
       "        }    #T_6a8d0498_9e74_11ea_8d66_94e979587969row3_col1 {\n",
       "            background-color:  #00fff6;\n",
       "            color:  #000000;\n",
       "        }    #T_6a8d0498_9e74_11ea_8d66_94e979587969row3_col2 {\n",
       "            background-color:  #00fff6;\n",
       "            color:  #000000;\n",
       "        }    #T_6a8d0498_9e74_11ea_8d66_94e979587969row4_col0 {\n",
       "            background-color:  #00fff6;\n",
       "            color:  #000000;\n",
       "        }    #T_6a8d0498_9e74_11ea_8d66_94e979587969row4_col1 {\n",
       "            background-color:  #00fff0;\n",
       "            color:  #000000;\n",
       "        }    #T_6a8d0498_9e74_11ea_8d66_94e979587969row4_col2 {\n",
       "            background-color:  #00fff0;\n",
       "            color:  #000000;\n",
       "        }    #T_6a8d0498_9e74_11ea_8d66_94e979587969row5_col0 {\n",
       "            background-color:  #00ffcd;\n",
       "            color:  #000000;\n",
       "        }    #T_6a8d0498_9e74_11ea_8d66_94e979587969row5_col1 {\n",
       "            background-color:  #00fff0;\n",
       "            color:  #000000;\n",
       "        }    #T_6a8d0498_9e74_11ea_8d66_94e979587969row5_col2 {\n",
       "            background-color:  #00fcff;\n",
       "            color:  #000000;\n",
       "        }</style><table id=\"T_6a8d0498_9e74_11ea_8d66_94e979587969\" ><thead>    <tr>        <th class=\"blank level0\" ></th>        <th class=\"col_heading level0 col0\" >precision</th>        <th class=\"col_heading level0 col1\" >recall</th>        <th class=\"col_heading level0 col2\" >f1-score</th>        <th class=\"col_heading level0 col3\" >support</th>    </tr></thead><tbody>\n",
       "                <tr>\n",
       "                        <th id=\"T_6a8d0498_9e74_11ea_8d66_94e979587969level0_row0\" class=\"row_heading level0 row0\" >0</th>\n",
       "                        <td id=\"T_6a8d0498_9e74_11ea_8d66_94e979587969row0_col0\" class=\"data row0 col0\" >0.89</td>\n",
       "                        <td id=\"T_6a8d0498_9e74_11ea_8d66_94e979587969row0_col1\" class=\"data row0 col1\" >0.94</td>\n",
       "                        <td id=\"T_6a8d0498_9e74_11ea_8d66_94e979587969row0_col2\" class=\"data row0 col2\" >0.92</td>\n",
       "                        <td id=\"T_6a8d0498_9e74_11ea_8d66_94e979587969row0_col3\" class=\"data row0 col3\" >1890</td>\n",
       "            </tr>\n",
       "            <tr>\n",
       "                        <th id=\"T_6a8d0498_9e74_11ea_8d66_94e979587969level0_row1\" class=\"row_heading level0 row1\" >1</th>\n",
       "                        <td id=\"T_6a8d0498_9e74_11ea_8d66_94e979587969row1_col0\" class=\"data row1 col0\" >0.94</td>\n",
       "                        <td id=\"T_6a8d0498_9e74_11ea_8d66_94e979587969row1_col1\" class=\"data row1 col1\" >0.89</td>\n",
       "                        <td id=\"T_6a8d0498_9e74_11ea_8d66_94e979587969row1_col2\" class=\"data row1 col2\" >0.91</td>\n",
       "                        <td id=\"T_6a8d0498_9e74_11ea_8d66_94e979587969row1_col3\" class=\"data row1 col3\" >1910</td>\n",
       "            </tr>\n",
       "            <tr>\n",
       "                        <th id=\"T_6a8d0498_9e74_11ea_8d66_94e979587969level0_row2\" class=\"row_heading level0 row2\" >micro avg</th>\n",
       "                        <td id=\"T_6a8d0498_9e74_11ea_8d66_94e979587969row2_col0\" class=\"data row2 col0\" >0.91</td>\n",
       "                        <td id=\"T_6a8d0498_9e74_11ea_8d66_94e979587969row2_col1\" class=\"data row2 col1\" >0.91</td>\n",
       "                        <td id=\"T_6a8d0498_9e74_11ea_8d66_94e979587969row2_col2\" class=\"data row2 col2\" >0.91</td>\n",
       "                        <td id=\"T_6a8d0498_9e74_11ea_8d66_94e979587969row2_col3\" class=\"data row2 col3\" >3800</td>\n",
       "            </tr>\n",
       "            <tr>\n",
       "                        <th id=\"T_6a8d0498_9e74_11ea_8d66_94e979587969level0_row3\" class=\"row_heading level0 row3\" >macro avg</th>\n",
       "                        <td id=\"T_6a8d0498_9e74_11ea_8d66_94e979587969row3_col0\" class=\"data row3 col0\" >0.91</td>\n",
       "                        <td id=\"T_6a8d0498_9e74_11ea_8d66_94e979587969row3_col1\" class=\"data row3 col1\" >0.91</td>\n",
       "                        <td id=\"T_6a8d0498_9e74_11ea_8d66_94e979587969row3_col2\" class=\"data row3 col2\" >0.91</td>\n",
       "                        <td id=\"T_6a8d0498_9e74_11ea_8d66_94e979587969row3_col3\" class=\"data row3 col3\" >3800</td>\n",
       "            </tr>\n",
       "            <tr>\n",
       "                        <th id=\"T_6a8d0498_9e74_11ea_8d66_94e979587969level0_row4\" class=\"row_heading level0 row4\" >weighted avg</th>\n",
       "                        <td id=\"T_6a8d0498_9e74_11ea_8d66_94e979587969row4_col0\" class=\"data row4 col0\" >0.91</td>\n",
       "                        <td id=\"T_6a8d0498_9e74_11ea_8d66_94e979587969row4_col1\" class=\"data row4 col1\" >0.91</td>\n",
       "                        <td id=\"T_6a8d0498_9e74_11ea_8d66_94e979587969row4_col2\" class=\"data row4 col2\" >0.91</td>\n",
       "                        <td id=\"T_6a8d0498_9e74_11ea_8d66_94e979587969row4_col3\" class=\"data row4 col3\" >3800</td>\n",
       "            </tr>\n",
       "            <tr>\n",
       "                        <th id=\"T_6a8d0498_9e74_11ea_8d66_94e979587969level0_row5\" class=\"row_heading level0 row5\" >samples avg</th>\n",
       "                        <td id=\"T_6a8d0498_9e74_11ea_8d66_94e979587969row5_col0\" class=\"data row5 col0\" >0.91</td>\n",
       "                        <td id=\"T_6a8d0498_9e74_11ea_8d66_94e979587969row5_col1\" class=\"data row5 col1\" >0.91</td>\n",
       "                        <td id=\"T_6a8d0498_9e74_11ea_8d66_94e979587969row5_col2\" class=\"data row5 col2\" >0.91</td>\n",
       "                        <td id=\"T_6a8d0498_9e74_11ea_8d66_94e979587969row5_col3\" class=\"data row5 col3\" >3800</td>\n",
       "            </tr>\n",
       "    </tbody></table>"
      ],
      "text/plain": [
       "<pandas.io.formats.style.Styler at 0x11ca9ded708>"
      ]
     },
     "execution_count": 100,
     "metadata": {},
     "output_type": "execute_result"
    }
   ],
   "source": [
    "format_dict = {'precision':'{0:,.2f}','recall':'{0:,.2f}','f1-score':'{0:,.2f}'}\n",
    "classification_report_df.style.format(format_dict).background_gradient(subset=['precision','recall','f1-score'], cmap='hsv')"
   ]
  },
  {
   "cell_type": "code",
   "execution_count": null,
   "metadata": {},
   "outputs": [],
   "source": []
  }
 ],
 "metadata": {
  "colab": {
   "collapsed_sections": [],
   "name": "Japanese Sentiment Analysis-1",
   "provenance": []
  },
  "kernelspec": {
   "display_name": "Python 3",
   "language": "python",
   "name": "python3"
  },
  "language_info": {
   "codemirror_mode": {
    "name": "ipython",
    "version": 3
   },
   "file_extension": ".py",
   "mimetype": "text/x-python",
   "name": "python",
   "nbconvert_exporter": "python",
   "pygments_lexer": "ipython3",
   "version": "3.7.4"
  }
 },
 "nbformat": 4,
 "nbformat_minor": 1
}
